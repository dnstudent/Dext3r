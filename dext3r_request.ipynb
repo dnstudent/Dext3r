{
 "cells": [
  {
   "cell_type": "code",
   "execution_count": null,
   "metadata": {},
   "outputs": [],
   "source": [
    "from pathlib import Path\n",
    "\n",
    "from lib.stack import *\n",
    "from lib.requests import *\n",
    "from lib.write import *\n",
    "from lib.download_manager import Dext3rDownloader\n",
    "\n",
    "# ref: https://arpa-simc.github.io/dballe/general_ref/btable.html\n",
    "# B12101: temperatura\n",
    "# B13011: precipitazione totale\n",
    "VARIABLE = \"B13011\"\n",
    "# ref: https://arpa-simc.github.io/dballe/general_ref/tranges.html\n",
    "# 1: accumulation\n",
    "# 2: maximum\n",
    "# 3: minimum\n",
    "AGGREGATION_CODE = 1\n",
    "# secondi su cui viene effettuata l'aggregazione:\n",
    "# 86400: giornaliera\n",
    "# 3600: oraria\n",
    "# 900: 15 minuti\n",
    "AGGREGATION_SPAN = 86400\n",
    "# Maximum number of lines to download. The site has a limit of 25000 lines, but the computation is not precise, so we keep some margin.\n",
    "MAX_LINES = 18000\n",
    "\n",
    "FROM = date(1989, 1, 1)\n",
    "TO = date(2021, 1, 1)\n",
    "\n",
    "# Choose your own path\n",
    "ROOT = Path(\"./test\")\n",
    "dm = Dext3rDownloader(ROOT, FROM)"
   ]
  },
  {
   "cell_type": "code",
   "execution_count": null,
   "metadata": {},
   "outputs": [],
   "source": [
    "dm.download(\n",
    "    [\"?\"],\n",
    "    VARIABLE,\n",
    "    AGGREGATION_CODE,\n",
    "    AGGREGATION_SPAN,\n",
    "    TO,\n",
    "    pause=61,\n",
    "    max_lines=MAX_LINES,\n",
    "    max_tries=5,\n",
    ")"
   ]
  },
  {
   "cell_type": "code",
   "execution_count": null,
   "metadata": {},
   "outputs": [],
   "source": []
  }
 ],
 "metadata": {
  "kernelspec": {
   "display_name": "tesi",
   "language": "python",
   "name": "python3"
  },
  "language_info": {
   "codemirror_mode": {
    "name": "ipython",
    "version": 3
   },
   "file_extension": ".py",
   "mimetype": "text/x-python",
   "name": "python",
   "nbconvert_exporter": "python",
   "pygments_lexer": "ipython3",
   "version": "3.12.3"
  }
 },
 "nbformat": 4,
 "nbformat_minor": 2
}
